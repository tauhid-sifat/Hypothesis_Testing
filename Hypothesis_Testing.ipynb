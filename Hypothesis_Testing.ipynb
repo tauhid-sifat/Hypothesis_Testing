{
  "nbformat": 4,
  "nbformat_minor": 0,
  "metadata": {
    "colab": {
      "provenance": [],
      "mount_file_id": "1N0Wb_oHZMrnThXVBAwfdzOVBek53XURF",
      "authorship_tag": "ABX9TyPqCxrpkTEAuTyOLOyzHmOM",
      "include_colab_link": true
    },
    "kernelspec": {
      "name": "python3",
      "display_name": "Python 3"
    },
    "language_info": {
      "name": "python"
    }
  },
  "cells": [
    {
      "cell_type": "markdown",
      "metadata": {
        "id": "view-in-github",
        "colab_type": "text"
      },
      "source": [
        "<a href=\"https://colab.research.google.com/github/tauhid-sifat/Hypothesis_Testing/blob/main/Hypothesis_Testing.ipynb\" target=\"_parent\"><img src=\"https://colab.research.google.com/assets/colab-badge.svg\" alt=\"Open In Colab\"/></a>"
      ]
    },
    {
      "cell_type": "code",
      "source": [
        "import pandas as pd\n",
        "import statsmodels.api as sm\n",
        "from scipy.stats import t\n",
        "\n",
        "# Load the CSV data into a DataFrame\n",
        "data = pd.read_csv('/content/drive/MyDrive/Study/Apartment data.csv')\n",
        "\n",
        "# Prepare the independent variables (X) and dependent variable (Y)\n",
        "X = data[['Number of Beds', 'Number of Baths', 'Area']]\n",
        "Y = data['Apartment Selling Price']\n",
        "\n",
        "# Add a constant term to the independent variables\n",
        "X = sm.add_constant(X)\n",
        "\n",
        "# Fit a linear regression model\n",
        "model = sm.OLS(Y, X).fit()\n",
        "\n",
        "# Print the model summary\n",
        "print(model.summary())\n",
        "\n",
        "# Hypothesis Testing for Number of Beds\n",
        "beds_coef = model.params['Number of Beds']\n",
        "beds_pvalue = model.pvalues['Number of Beds']\n",
        "beds_std_err = model.bse['Number of Beds']\n",
        "\n",
        "alpha = 0.05  # Significance level\n",
        "\n",
        "if beds_pvalue < alpha:\n",
        "    print(\"Reject H0: Number of beds (X1) has a significant impact on apartment selling price (Y)\")\n",
        "else:\n",
        "    print(\"Fail to reject H0: Number of beds (X1) does not have a significant impact on apartment selling price (Y)\")\n",
        "\n",
        "# Hypothesis Testing for Number of Baths\n",
        "baths_coef = model.params['Number of Baths']\n",
        "baths_pvalue = model.pvalues['Number of Baths']\n",
        "baths_std_err = model.bse['Number of Baths']\n",
        "\n",
        "if baths_pvalue < alpha:\n",
        "    print(\"Reject H0: Number of baths (X2) has a significant influence on apartment selling price (Y)\")\n",
        "else:\n",
        "    print(\"Fail to reject H0: Number of baths (X2) does not have a significant influence on apartment selling price (Y)\")\n",
        "\n",
        "# Hypothesis Testing for Area\n",
        "area_coef = model.params['Area']\n",
        "area_pvalue = model.pvalues['Area']\n",
        "area_std_err = model.bse['Area']\n",
        "\n",
        "if area_pvalue < alpha:\n",
        "    print(\"Reject H0: Area (X3) of the apartment has an impact on the selling price (Y)\")\n",
        "else:\n",
        "    print(\"Fail to reject H0: Area (X3) of the apartment does not affect the selling price (Y)\")\n",
        "\n",
        "# Calculating the t-value and p-value for Number of Beds\n",
        "beds_tvalue = beds_coef / beds_std_err\n",
        "beds_df = len(data) - 2  # degrees of freedom\n",
        "beds_pvalue_calculated = 2 * (1 - t.cdf(abs(beds_tvalue), df=beds_df))\n",
        "\n",
        "# Comparing calculated p-value with the obtained p-value\n",
        "if beds_pvalue_calculated < alpha:\n",
        "    print(\"Reject H0 based on calculated p-value: Number of beds (X1) has a significant impact on apartment selling price (Y)\")\n",
        "else:\n",
        "    print(\"Fail to reject H0 based on calculated p-value: Number of beds (X1) does not have a significant impact on apartment selling price (Y)\")\n",
        "\n",
        "# Calculating the t-value and p-value for Number of Baths\n",
        "baths_tvalue = baths_coef / baths_std_err\n",
        "baths_df = len(data) - 2  # degrees of freedom\n",
        "baths_pvalue_calculated = 2 * (1 - t.cdf(abs(baths_tvalue), df=baths_df))\n",
        "\n",
        "# Comparing calculated p-value with the obtained p-value\n",
        "if baths_pvalue_calculated < alpha:\n",
        "    print(\"Reject H0 based on calculated p-value: Number of baths (X2) has a significant influence on apartment selling price (Y)\")\n",
        "else:\n",
        "    print(\"Fail to reject H0 based on calculated p-value: Number of baths (X2) does not have a significant influence on apartment selling price (Y)\")\n",
        "\n",
        "# Calculating the t-value and p-value for Area\n",
        "area_tvalue = area_coef / area_std_err\n",
        "area_df = len(data) - 2  # degrees of freedom\n",
        "area_pvalue_calculated = 2 * (1 - t.cdf(abs(area_tvalue), df=area_df))\n",
        "\n",
        "# Comparing calculated p-value with the obtained p-value\n",
        "if area_pvalue_calculated < alpha:\n",
        "    print(\"Reject H0 based on calculated p-value: Area (X3) of the apartment has an impact on the selling price (Y)\")\n",
        "else:\n",
        "    print(\"Fail to reject H0 based on calculated p-value: Area (X3) of the apartment does not affect the selling price (Y)\")\n"
      ],
      "metadata": {
        "id": "bsgZd0_xcsTL"
      },
      "execution_count": null,
      "outputs": []
    },
    {
      "cell_type": "markdown",
      "source": [
        "\n",
        "\n",
        "```\n",
        "The regression results indicate the coefficients, standard errors, t-values, and p-values for each independent variable in the model. Let's interpret the results based on the given hypotheses:\n",
        "•\tNumber of beds (X1) and apartment selling price (Y):\n",
        "o\tThe coefficient for the Number of Beds variable is -1.908e+06.\n",
        "o\tThe standard error associated with this coefficient is 4.04e+06.\n",
        "o\tThe t-value for Number of Beds is -0.472, which is obtained by dividing the coefficient by its standard error.\n",
        "o\tThe p-value associated with Number of Beds is 0.638.\n",
        "Based on the p-value (0.638) obtained for Number of Beds, which is greater than the significance level of 0.05, we fail to reject the null hypothesis (H0: Number of beds has no significant impact on apartment selling price). This means that the data does not provide sufficient evidence to conclude that the Number of Beds variable has a significant impact on the apartment selling price.\n",
        "•\tNumber of baths (X2) and apartment selling price (Y):\n",
        "o\tThe coefficient for the Number of Baths variable is 7.353e+06.\n",
        "o\tThe standard error associated with this coefficient is 2.94e+06.\n",
        "o\tThe t-value for Number of Baths is 2.501.\n",
        "o\tThe p-value associated with Number of Baths is 0.015.\n",
        "With the obtained p-value (0.015) for Number of Baths being less than the significance level of 0.05, we reject the null hypothesis (H0: Number of baths has no significant influence on apartment selling price). This indicates that there is sufficient evidence to support the alternative hypothesis (H1: Number of baths has a significant influence on apartment selling price). In other words, the Number of Baths variable has a statistically significant impact on the apartment selling price.\n",
        "•\tArea (X3) and apartment selling price (Y):\n",
        "o\tThe coefficient for the Area variable is 2788.0105.\n",
        "o\tThe standard error associated with this coefficient is 1122.389.\n",
        "o\tThe t-value for Area is 2.484.\n",
        "o\tThe p-value associated with Area is 0.016.\n",
        "Similarly, the p-value (0.016) for the Area variable is below the significance level of 0.05, leading us to reject the null hypothesis (H0: Area of the apartment does not affect the selling price). This supports the alternative hypothesis (H1: Area of the apartment has an impact on the selling price). Hence, there is sufficient evidence to conclude that the Area variable has a statistically significant impact on the apartment selling price.\n",
        "\n",
        "```\n",
        "\n"
      ],
      "metadata": {
        "id": "owTZsq54hpio"
      }
    }
  ]
}